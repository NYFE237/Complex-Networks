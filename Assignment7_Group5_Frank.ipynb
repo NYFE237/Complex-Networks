{
 "cells": [
  {
   "cell_type": "markdown",
   "metadata": {},
   "source": [
    "## Assignment 7\n",
    "\n",
    "The goal of this lab is to introduce the basic models used to simulate epidemics in networks, experiment with them and compare them. \n",
    "We will explore both types of diffusion models, decision-based and epidemic ones.\n",
    "As a use case, we are going to use the coauthorship network of network scientists, which you can load with the function read gml from networkx library.\n",
    "\n",
    "The following questions can be answered with the help of networkx and NDlib. You may also use other packages to deal with the problem. Please answer the following\n",
    "questions on the networks you have and submit your executable code."
   ]
  },
  {
   "cell_type": "code",
   "execution_count": 33,
   "metadata": {},
   "outputs": [],
   "source": [
    "path = \"/Users/0232112159/Desktop/Complex Analysis\""
   ]
  },
  {
   "cell_type": "code",
   "execution_count": 34,
   "metadata": {},
   "outputs": [],
   "source": [
    "# download a file from a url \n",
    "import requests\n",
    "\n",
    "def download(url,file_name):\n",
    "    get_response = requests.get(url)\n",
    "    with open(file_name, \"wb\") as out_file:\n",
    "        out_file.write(get_response.content)\n",
    "\n",
    "download(url = \"http://www.casos.cs.cmu.edu/computational_tools/datasets/external/netscience/netscience.gml\", file_name=path+\"netscience.gml\")"
   ]
  },
  {
   "cell_type": "code",
   "execution_count": 35,
   "metadata": {},
   "outputs": [],
   "source": [
    "import networkx as nx\n",
    "import matplotlib.pyplot as plt"
   ]
  },
  {
   "cell_type": "code",
   "execution_count": 36,
   "metadata": {},
   "outputs": [
    {
     "name": "stdout",
     "output_type": "stream",
     "text": [
      "Graph Info:\n",
      "Number of nodes: 1589\n",
      "Number of edges: 2742\n",
      "Is directed: False\n"
     ]
    }
   ],
   "source": [
    "# Read the data and show the basic information\n",
    "\n",
    "import networkx as nx \n",
    "\n",
    "# Load the GML file\n",
    "gml_file_path = path + \"netscience.gml\"\n",
    "graph = nx.read_gml(gml_file_path)\n",
    "\n",
    "# Display basic information about the graph:\n",
    "print(\"Graph Info:\")\n",
    "print(f\"Number of nodes: {graph.number_of_nodes()}\")\n",
    "print(f\"Number of edges: {graph.number_of_edges()}\")\n",
    "print(f\"Is directed: {graph.is_directed()}\")\n"
   ]
  },
  {
   "cell_type": "markdown",
   "metadata": {},
   "source": [
    "**(a)** The Sznajd model is a variant of spin model based on social impact, which\n",
    "takes into account the fact that a group of individuals with the same opinion can influence their\n",
    "neighbours more than one single individual. Please use the Sznajd model to simulate the cascade\n",
    "of misinformation between the network of network scientists for 100 steps with different initial ”infected” numbers: 100, 300, and 700. Please visualize the results and output a prevalence plot. (May refer to NDlib.)"
   ]
  },
  {
   "cell_type": "code",
   "execution_count": 15,
   "metadata": {},
   "outputs": [],
   "source": [
    "import matplotlib.pyplot as plt\n",
    "\n",
    "\n",
    "def plot_diffusion_trend_and_prevalence(trends, num_iterations, total_nodes):\n",
    "    # Initialize lists to track the number and fraction of nodes with each opinion\n",
    "    \n",
    "    # Get the counts of nodes with opinion +1 and -1\n",
    "    #pos_count = iteration['node_count'][1]  # Nodes with opinion +1\n",
    "    #neg_count = iteration['node_count'][-1]  # Nodes with opinion -1\n",
    "    pos_count = trends[0]['trends']['node_count'][0]  # Get count of +1 opinions or 0 if missing\n",
    "    neg_count = trends[0]['trends']['node_count'][1]  # Get count of -1 opinions or 0 if missing\n",
    "\n",
    "    # Store fractions (for prevalence)\n",
    "    pos_opinion_prevalence = [ i / total_nodes for i in pos_count]\n",
    "    neg_opinion_prevalence = [ i / total_nodes for i in neg_count]\n",
    "\n",
    "    # Create a figure with two subplots: one for Trend and one for Prevalence\n",
    "    fig, (ax1, ax2) = plt.subplots(1, 2, figsize=(12, 6))\n",
    "\n",
    "    # Plot Diffusion Trend (absolute pos_count)\n",
    "    ax1.plot(range(num_iterations), pos_count, label=\"Positive Opinion (+1)\", color='blue')\n",
    "    ax1.plot(range(num_iterations), neg_count, label=\"Negative Opinion (-1)\", color='red')\n",
    "    ax1.set_xlabel('Iterations')\n",
    "    ax1.set_ylabel('Number of Nodes')\n",
    "    ax1.set_title('Diffusion Trend: Opinion Dynamics')\n",
    "    ax1.legend()\n",
    "\n",
    "    # Plot Diffusion Prevalence (fractions)\n",
    "    ax2.plot(range(num_iterations), pos_opinion_prevalence, label=\"Positive Opinion (+1)\", color='blue')\n",
    "    ax2.plot(range(num_iterations), neg_opinion_prevalence, label=\"Negative Opinion (-1)\", color='red')\n",
    "    ax2.set_xlabel('Iterations')\n",
    "    ax2.set_ylabel('Prevalence (Fraction of Nodes)')\n",
    "    ax2.set_title('Diffusion Prevalence: Opinion Dynamics')\n",
    "    ax2.legend()\n",
    "\n",
    "    # Show the combined plot\n",
    "    plt.tight_layout()\n",
    "    plt.show()\n"
   ]
  },
  {
   "cell_type": "code",
   "execution_count": 16,
   "metadata": {},
   "outputs": [],
   "source": [
    "\n",
    "def sznajd_model(G, initial_infected_number, number_iterations):\n",
    "    \"\"\"\n",
    "    simulate sznajd model and plot the results\n",
    "    Args:\n",
    "        G: networkx graph\n",
    "        initial_infected_rate: initial infected rate\n",
    "        number_iterations: hyper-parameter may play with\n",
    "    \"\"\"\n",
    "    # total number of nodes\n",
    "    total_nodes = G.number_of_nodes()\n",
    "    \n",
    "    # initial infected rate since we have to provide it as a value between (0, 1)\n",
    "    initial_infected_rate = initial_infected_number/total_nodes\n",
    "\n",
    "    # Model selection\n",
    "    model = sznajd_model(G)\n",
    "   \n",
    "    # Simulation execution\n",
    "    trends = model.iteration_brunch(number_iterations)\n",
    "\n",
    "    %matplotlib inline\n",
    "    # visualize the result\n",
    "    pos_counts = []\n",
    "    neg_counts = []\n",
    "    \n",
    "    return "
   ]
  },
  {
   "cell_type": "code",
   "execution_count": 41,
   "metadata": {},
   "outputs": [],
   "source": [
    "# Run sznajd for initial infected number: 5\n",
    "\n"
   ]
  },
  {
   "cell_type": "code",
   "execution_count": 23,
   "metadata": {},
   "outputs": [],
   "source": [
    "# Run sznajd for initial infected number: 15\n"
   ]
  },
  {
   "cell_type": "code",
   "execution_count": 24,
   "metadata": {},
   "outputs": [],
   "source": [
    "# Run sznajd for initial infected number: 30\n"
   ]
  },
  {
   "cell_type": "markdown",
   "metadata": {},
   "source": [
    "**(b)** Although the interaction networks in real-life are different from the social networks we have, it is still meaningful to simulate the epidemics cascade with our dataset. The SIR model was introduced in 1927 by Kermack. In this model, during the course of an epidemic, a node is allowed to change its status from Susceptible (S) to Infected (I), then to Removed (R). Please use the SIR model to simulate for 100 iterations the cascade of the epidemic with the same number of initially infected nodes (suggested 0.5), with the following three sets of infection/removal probabilities: (0.5, 0.2), (0.3, 0.3), (0.4, 0.5) on the network science dataset, and visualize the results."
   ]
  },
  {
   "cell_type": "code",
   "execution_count": 40,
   "metadata": {},
   "outputs": [],
   "source": [
    "import networkx as nx\n",
    "import ndlib.models.epidemics as ep\n",
    "import ndlib.models.opinions as op\n",
    "import ndlib.models.ModelConfig as mc\n",
    "import matplotlib.pyplot as plt\n",
    "from ndlib.viz.mpl.DiffusionPrevalence import DiffusionPrevalence \n",
    "from bokeh.io import output_notebook, show\n",
    "from IPython.display import Image, display"
   ]
  },
  {
   "cell_type": "code",
   "execution_count": 16,
   "metadata": {},
   "outputs": [],
   "source": [
    "def SIR_model(G, ini_infect, infection, removal, num_iterations):\n",
    "    \"\"\"\n",
    "    Args:\n",
    "        G: networkx graph\n",
    "        ini_infect (float): initial fraction of infected nodes\n",
    "        infection (float): initial set of infected nodes\n",
    "        removal (float): removal probability\n",
    "        num_iterations (int): number of iterations\n",
    "    \"\"\"\n",
    "    # declare the model\n",
    "   model = ep.SIRModel(G)\n",
    "\n",
    "    # Configuration of the model\n",
    "    cfg = mc.Configuration()\n",
    "    cfg.add_model_parameter('beta',infection)\n",
    "    cfg.add_model_parameter('gamma', removal)\n",
    "    \n",
    "    # Simulation execution\n",
    "    iterations = model.iteration_bunch(200)\n",
    "   \n",
    "    trends = model.build_trends(iterations)\n",
    "    # visualize the result\n",
    "   viz = DiffusionPrevalance(model, trends)\n",
    "   viz.plot(f\"SIR PREVALENCE\")\n",
    "\n",
    "    %matplotlib inline\n",
    "    # prevalence plot\n",
    "    \n",
    "\n",
    "    return trends"
   ]
  },
  {
   "cell_type": "code",
   "execution_count": null,
   "metadata": {},
   "outputs": [],
   "source": []
  },
  {
   "cell_type": "code",
   "execution_count": null,
   "metadata": {},
   "outputs": [],
   "source": [
    "print(\"Running SIR model simulation for {0} infection probability and {1} removal probability.\".format(0.5, 0.2))"
   ]
  },
  {
   "cell_type": "code",
   "execution_count": null,
   "metadata": {},
   "outputs": [],
   "source": [
    "print(\"Running SIR model simulation for {0} infection probability and {1} removal probability.\".format(0.3, 0.3))"
   ]
  },
  {
   "cell_type": "code",
   "execution_count": null,
   "metadata": {},
   "outputs": [],
   "source": [
    "print(\"Running SIR model simulation for {0} infection probability and {1} removal probability.\".format(0.4, 0.5))"
   ]
  }
 ],
 "metadata": {
  "kernelspec": {
   "display_name": "ml",
   "language": "python",
   "name": "python3"
  },
  "language_info": {
   "codemirror_mode": {
    "name": "ipython",
    "version": 3
   },
   "file_extension": ".py",
   "mimetype": "text/x-python",
   "name": "python",
   "nbconvert_exporter": "python",
   "pygments_lexer": "ipython3",
   "version": "3.9.6"
  }
 },
 "nbformat": 4,
 "nbformat_minor": 2
}
