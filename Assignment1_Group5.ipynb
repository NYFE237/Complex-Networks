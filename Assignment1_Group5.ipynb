{
  "nbformat": 4,
  "nbformat_minor": 0,
  "metadata": {
    "colab": {
      "provenance": []
    },
    "kernelspec": {
      "name": "python3",
      "display_name": "Python 3"
    },
    "language_info": {
      "name": "python"
    }
  },
  "cells": [
    {
      "cell_type": "markdown",
      "source": [
        "PACKAGES LOADING"
      ],
      "metadata": {
        "id": "JTmvI6JWkT18"
      }
    },
    {
      "cell_type": "code",
      "execution_count": 1,
      "metadata": {
        "id": "_o8H0Q0Rjs01"
      },
      "outputs": [],
      "source": [
        "import networkx as nx\n",
        "import urllib.request\n",
        "import numpy as np\n",
        "import random\n",
        "import matplotlib.pyplot as plt"
      ]
    },
    {
      "cell_type": "markdown",
      "source": [
        "QUESTION A"
      ],
      "metadata": {
        "id": "twNS130PkP_w"
      }
    },
    {
      "cell_type": "code",
      "source": [
        "# Correct URLs pointing to the raw files on GitHub\n",
        "facebook_url = \"https://raw.githubusercontent.com/1250326/exercise_complex_network/master/Datasets/Group5/Facebook-Ego/686.edges\"\n",
        "twitter_url = \"https://raw.githubusercontent.com/1250326/exercise_complex_network/master/Datasets/Group5/Twitter-Ego/1435461.edges\"\n",
        "\n",
        "# Download the Facebook-Ego network file\n",
        "urllib.request.urlretrieve(facebook_url, \"facebook.edges\")\n",
        "# Load the Facebook-Ego network as an undirected graph\n",
        "facebook_network = nx.read_edgelist(\"facebook.edges\", nodetype=int)\n",
        "\n",
        "# Download the Twitter-Ego network file\n",
        "urllib.request.urlretrieve(twitter_url, \"twitter.edges\")\n",
        "# Load the Twitter-Ego network as a directed graph\n",
        "twitter_network = nx.read_edgelist(\"twitter.edges\", nodetype=int, create_using=nx.DiGraph())\n",
        "\n",
        "# Analyze the Facebook-Ego network\n",
        "print(\"Facebook-Ego Network:\")\n",
        "print(f\"Number of Nodes: {facebook_network.number_of_nodes()}\")\n",
        "print(f\"Number of Edges: {facebook_network.number_of_edges()}\")\n",
        "\n",
        "# Analyze the Twitter-Ego network\n",
        "print(\"\\nTwitter-Ego Network:\")\n",
        "print(f\"Number of Nodes: {twitter_network.number_of_nodes()}\")\n",
        "print(f\"Number of Edges: {twitter_network.number_of_edges()}\")\n"
      ],
      "metadata": {
        "colab": {
          "base_uri": "https://localhost:8080/"
        },
        "id": "vlla26Btjtcp",
        "outputId": "80286ca8-a4a8-41ef-a6d2-b46e5738cea3"
      },
      "execution_count": 2,
      "outputs": [
        {
          "output_type": "stream",
          "name": "stdout",
          "text": [
            "Facebook-Ego Network:\n",
            "Number of Nodes: 168\n",
            "Number of Edges: 1656\n",
            "\n",
            "Twitter-Ego Network:\n",
            "Number of Nodes: 129\n",
            "Number of Edges: 8037\n"
          ]
        }
      ]
    },
    {
      "cell_type": "markdown",
      "source": [
        "QUESTION B"
      ],
      "metadata": {
        "id": "5UwEE4z3kDzZ"
      }
    },
    {
      "cell_type": "code",
      "source": [
        "# Get the maximum degree and average degree for Facebook-Ego\n",
        "max_degree_facebook = max(dict(facebook_network.degree()).values())\n",
        "avg_degree_facebook = sum(dict(facebook_network.degree()).values()) / len(facebook_network)\n",
        "\n",
        "# Get the maximum degree and average degree for Twitter-Ego\n",
        "max_degree_twitter = max(dict(twitter_network.degree()).values())\n",
        "avg_degree_twitter = sum(dict(twitter_network.degree()).values()) / len(twitter_network)\n",
        "\n",
        "# Print the results\n",
        "print(\"For Facebook-Ego Network:\")\n",
        "print(\"The maximum degree is :\", max_degree_facebook)\n",
        "print(\"The average degree:\", avg_degree_facebook)\n",
        "\n",
        "print(\"\\n For Twitter-Ego Network:\")\n",
        "print(\"The maximum degree is :\", max_degree_twitter)\n",
        "print(\"The average degree is :\", avg_degree_twitter)"
      ],
      "metadata": {
        "colab": {
          "base_uri": "https://localhost:8080/"
        },
        "id": "UTJlG8nVkFtz",
        "outputId": "38002522-767b-4b12-a3b0-224e7de01d5a"
      },
      "execution_count": 3,
      "outputs": [
        {
          "output_type": "stream",
          "name": "stdout",
          "text": [
            "For Facebook-Ego Network:\n",
            "The maximum degree is : 77\n",
            "The average degree: 19.714285714285715\n",
            "\n",
            " For Twitter-Ego Network:\n",
            "The maximum degree is : 205\n",
            "The average degree is : 124.6046511627907\n"
          ]
        }
      ]
    },
    {
      "cell_type": "markdown",
      "source": [
        "QUESTION C"
      ],
      "metadata": {
        "id": "zs2jz9CEkJPG"
      }
    },
    {
      "cell_type": "code",
      "source": [
        " # I first select Randomly select 5-8 nodes from Facebook-Ego\n",
        "selected_nodes = random.sample(facebook_network.nodes(), random.randint(5, 8))\n",
        "\n",
        "# Create a subgraph (partial network) using the selected nodes\n",
        "partial_network = facebook_network.subgraph(selected_nodes)\n",
        "# Subgraph plot\n",
        "plt.figure(figsize=(8, 8))\n",
        "pos = nx.spring_layout(partial_network)\n",
        "nx.draw(partial_network, pos, with_labels=True, node_size=100, node_color='b', edge_color='gray', alpha=0.6)\n",
        "plt.title(\"Facebook-Ego Network Subgraph\")\n",
        "plt.show()\n",
        "\n",
        "# Calculate the adjacency matrix of the partial network\n",
        "adjacency_matrix = nx.to_numpy_array(partial_network)\n",
        "\n",
        "# Print the adjacency matrix\n",
        "print(\"Adjacency Matrix of Partial Network:\")\n",
        "print(adjacency_matrix)\n",
        "\n",
        "# The Need for an Adjacency Matrix:\n",
        "print(\"\"\"We need the adjacency matrix to describe the structure of the network because it provides\n",
        "a compact and efficient representation of the network's connectivity. The adjacency matrix is a\n",
        "square matrix where the rows and columns correspond to the nodes in the network, and the entries\n",
        "indicate whether there is an edge between each pair of nodes. By examining the adjacency matrix,\n",
        "we can easily determine the degree of each node, the number of triangles in the network, and other\n",
        "important structural properties.\"\"\")"
      ],
      "metadata": {
        "colab": {
          "base_uri": "https://localhost:8080/",
          "height": 1000
        },
        "id": "RcsfYMXokIgO",
        "outputId": "0a8e422d-506d-42c1-a561-dbfe882a51a3"
      },
      "execution_count": 4,
      "outputs": [
        {
          "output_type": "stream",
          "name": "stderr",
          "text": [
            "<ipython-input-4-743660d6de25>:2: DeprecationWarning: Sampling from a set deprecated\n",
            "since Python 3.9 and will be removed in a subsequent version.\n",
            "  selected_nodes = random.sample(facebook_network.nodes(), random.randint(5, 8))\n"
          ]
        },
        {
          "output_type": "display_data",
          "data": {
            "text/plain": [
              "<Figure size 800x800 with 1 Axes>"
            ],
            "image/png": "[encoded data removed]"
          },
          "metadata": {}
        },
        {
          "output_type": "stream",
          "name": "stdout",
          "text": [
            "Adjacency Matrix of Partial Network:\n",
            "[[0. 0. 0. 0. 0. 0. 0. 0.]\n",
            " [0. 0. 0. 0. 1. 0. 0. 0.]\n",
            " [0. 0. 0. 0. 0. 0. 0. 0.]\n",
            " [0. 0. 0. 0. 0. 0. 0. 0.]\n",
            " [0. 1. 0. 0. 0. 0. 0. 0.]\n",
            " [0. 0. 0. 0. 0. 0. 0. 0.]\n",
            " [0. 0. 0. 0. 0. 0. 0. 0.]\n",
            " [0. 0. 0. 0. 0. 0. 0. 0.]]\n",
            "We need the adjacency matrix to describe the structure of the network because it provides\n",
            "a compact and efficient representation of the network's connectivity. The adjacency matrix is a\n",
            "square matrix where the rows and columns correspond to the nodes in the network, and the entries\n",
            "indicate whether there is an edge between each pair of nodes. By examining the adjacency matrix,\n",
            "we can easily determine the degree of each node, the number of triangles in the network, and other\n",
            "important structural properties.\n"
          ]
        }
      ]
    }
  ]
}