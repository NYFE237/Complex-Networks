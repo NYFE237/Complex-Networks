{
  "nbformat": 4,
  "nbformat_minor": 0,
  "metadata": {
    "colab": {
      "provenance": []
    },
    "kernelspec": {
      "name": "python3",
      "display_name": "Python 3"
    },
    "language_info": {
      "name": "python"
    }
  },
  "cells": [
    {
      "cell_type": "markdown",
      "source": [
        "PACKAGES LOADING"
      ],
      "metadata": {
        "id": "VyKzm6YpTi25"
      }
    },
    {
      "cell_type": "code",
      "execution_count": 1,
      "metadata": {
        "id": "i4RtOF1dTWNv"
      },
      "outputs": [],
      "source": [
        "import urllib.request\n",
        "import networkx as nx\n",
        "import numpy as np\n",
        "import random\n",
        "import matplotlib.pyplot as plt"
      ]
    },
    {
      "cell_type": "code",
      "source": [
        "# Correct URLs pointing to the raw files on GitHub\n",
        "facebook_url = \"https://raw.githubusercontent.com/1250326/exercise_complex_network/master/Datasets/Group5/Facebook-Ego/686.edges\"\n",
        "twitter_url = \"https://raw.githubusercontent.com/1250326/exercise_complex_network/master/Datasets/Group5/Twitter-Ego/1435461.edges\"\n",
        "\n",
        "# Download the Facebook-Ego network file\n",
        "urllib.request.urlretrieve(facebook_url, \"facebook.edges\")\n",
        "# Load the Facebook-Ego network as an undirected graph\n",
        "facebook_network = nx.read_edgelist(\"facebook.edges\", nodetype=int)\n",
        "\n",
        "# Download the Twitter-Ego network file\n",
        "urllib.request.urlretrieve(twitter_url, \"twitter.edges\")\n",
        "# Load the Twitter-Ego network as a directed graph\n",
        "twitter_network = nx.read_edgelist(\"twitter.edges\", nodetype=int, create_using=nx.DiGraph())"
      ],
      "metadata": {
        "id": "XcnLHImTTzbD"
      },
      "execution_count": 2,
      "outputs": []
    },
    {
      "cell_type": "markdown",
      "source": [
        "QUESTION A"
      ],
      "metadata": {
        "id": "TCMqil5mUyC3"
      }
    },
    {
      "cell_type": "code",
      "source": [
        "#Let's calculate the degree sequence of Facebook Network\n",
        "\n",
        "degree_sequence_facebook = [d for n, d in facebook_network.degree()]\n",
        "degree_count_facebook = dict()\n",
        "\n",
        "for d in degree_sequence_facebook:\n",
        "    if d in degree_count_facebook:\n",
        "        degree_count_facebook[d] += 1\n",
        "    else:\n",
        "        degree_count_facebook[d] = 1\n",
        "\n",
        "print(\"The degree distribution of facebook-ego network is : \",degree_count_facebook)\n",
        "\n",
        "# Plot the degree distribution\n",
        "\n",
        "plt.scatter(degree_count_facebook.keys(), degree_count_facebook.values())\n",
        "plt.title(\"Degree distribution of the Facebook-Ego network\")\n",
        "plt.xlabel(\"Degree\")\n",
        "plt.ylabel(\"Number of nodes\")\n",
        "plt.show()"
      ],
      "metadata": {
        "colab": {
          "base_uri": "https://localhost:8080/",
          "height": 508
        },
        "id": "h2_1NmjjUK8Y",
        "outputId": "3bf9426f-fc18-4bb6-a864-73babda62682"
      },
      "execution_count": 3,
      "outputs": [
        {
          "output_type": "stream",
          "name": "stdout",
          "text": [
            "The degree distribution of facebook-ego network is :  {44: 2, 35: 4, 51: 2, 10: 1, 77: 1, 37: 3, 9: 7, 53: 1, 8: 6, 20: 2, 46: 1, 24: 3, 36: 2, 63: 1, 70: 1, 27: 2, 17: 8, 14: 7, 33: 2, 30: 1, 50: 1, 29: 4, 26: 3, 18: 3, 31: 1, 7: 10, 54: 1, 19: 5, 55: 1, 28: 3, 13: 10, 43: 1, 12: 7, 42: 1, 62: 1, 41: 1, 22: 3, 15: 3, 68: 1, 34: 1, 25: 4, 6: 5, 56: 1, 11: 6, 3: 8, 21: 1, 57: 1, 39: 1, 38: 1, 16: 2, 40: 1, 4: 5, 2: 4, 1: 7, 5: 2, 23: 1}\n"
          ]
        },
        {
          "output_type": "display_data",
          "data": {
            "text/plain": [
              "<Figure size 640x480 with 1 Axes>"
            ],
            "image/png": "[encoded data removed]"
          },
          "metadata": {}
        }
      ]
    },
    {
      "cell_type": "code",
      "source": [
        "#Let's calculate the degree sequence of Twitter Network\n",
        "\n",
        "degree_sequence_Twitter = [d for n, d in twitter_network.degree()]\n",
        "degree_count_Twitter = dict()\n",
        "for d in degree_sequence_Twitter:\n",
        "    if d in degree_count_Twitter:\n",
        "        degree_count_Twitter[d] += 1\n",
        "    else:\n",
        "        degree_count_Twitter[d] = 1\n",
        "\n",
        "print(\"The degree distribution of facebook-ego network is : \",degree_count_Twitter)\n",
        "\n",
        "# Plot the degree distribution\n",
        "plt.scatter(degree_count_Twitter.keys(), degree_count_Twitter.values())\n",
        "plt.title(\"Degree distribution of the Twitter-Ego network\")\n",
        "plt.xlabel(\"Degree\")\n",
        "plt.ylabel(\"Number of nodes\")\n",
        "plt.show()"
      ],
      "metadata": {
        "colab": {
          "base_uri": "https://localhost:8080/",
          "height": 508
        },
        "id": "zYe6tG2XVUfz",
        "outputId": "f63db99c-a258-4a1e-e133-515064705711"
      },
      "execution_count": 4,
      "outputs": [
        {
          "output_type": "stream",
          "name": "stdout",
          "text": [
            "The degree distribution of facebook-ego network is :  {54: 1, 167: 4, 182: 1, 73: 1, 174: 3, 178: 3, 177: 3, 98: 3, 205: 1, 15: 1, 175: 4, 82: 2, 155: 1, 186: 2, 173: 2, 83: 2, 123: 1, 81: 3, 179: 3, 176: 2, 181: 6, 114: 2, 76: 2, 67: 1, 153: 1, 90: 3, 96: 1, 166: 1, 137: 1, 97: 1, 162: 1, 168: 1, 147: 2, 180: 2, 184: 3, 121: 1, 115: 2, 193: 1, 53: 1, 191: 1, 150: 1, 70: 2, 126: 2, 84: 1, 80: 2, 99: 1, 55: 1, 194: 1, 156: 1, 91: 1, 78: 1, 119: 1, 197: 1, 158: 2, 72: 2, 164: 1, 68: 2, 146: 1, 151: 1, 28: 1, 129: 1, 64: 2, 77: 1, 130: 1, 145: 1, 74: 1, 111: 1, 110: 1, 93: 1, 71: 1, 60: 3, 169: 1, 154: 1, 89: 2, 85: 1, 88: 1, 66: 1, 79: 1, 62: 1, 63: 1, 8: 1, 2: 1}\n"
          ]
        },
        {
          "output_type": "display_data",
          "data": {
            "text/plain": [
              "<Figure size 640x480 with 1 Axes>"
            ],
            "image/png": "[encoded data removed]"
          },
          "metadata": {}
        }
      ]
    },
    {
      "cell_type": "markdown",
      "source": [
        "QUESTION B"
      ],
      "metadata": {
        "id": "jp_9ilM6VrOh"
      }
    },
    {
      "cell_type": "code",
      "source": [
        "print(\"\"\"\n",
        "The observations you make about Facebook and Twitter networks highlight several key characteristics of real-world social networks when compared to random networks. Here’s a more detailed breakdown based on the analysis of degree distributions and the underlying structure:\n",
        "\n",
        "1. **Facebook and Twitter Networks:**\n",
        "   - **High variability in degrees**: Both networks show significant variation in node degrees (number of connections). This implies that, unlike in random networks where the degrees are typically distributed more uniformly, certain nodes in these social networks are more connected than others.\n",
        "   - **Presence of hubs**: The fact that certain nodes have notably higher degrees (e.g., 12, 28, 50) points toward the formation of \"hubs.\" These hubs are nodes that attract many connections, aligning with **preferential attachment** mechanisms—nodes with higher connections tend to gain more new links over time.\n",
        "   - **Community structures**: The variability in the degree distribution may suggest the presence of communities or clusters within the network. These groups can form naturally in social networks as people cluster around common interests or connections.\n",
        "\n",
        "2. **Random Networks**:\n",
        "   - **Uniform degree distribution**: In contrast, random networks tend to exhibit a Poisson-like degree distribution, where most nodes have a similar number of connections, and outliers (i.e., highly connected nodes) are rare.\n",
        "   - **Lack of hubs**: In a random network, the likelihood of any node becoming significantly more connected than others is very low. The degree distribution tends to be much more uniform without the large hubs seen in real-world networks.\n",
        "\n",
        "3. **Preferential Attachment and its Role**:\n",
        "   - **Growth through attraction**: In real-world networks like Facebook and Twitter, the preferential attachment mechanism drives the formation of hubs. This means that new users are more likely to connect to nodes (people or accounts) that are already well connected. This behavior is absent in random networks where connections are formed randomly rather than based on the popularity of a node.\n",
        "   - **Power-law distribution**: As a result of preferential attachment, real-world networks often follow a power-law degree distribution, where most nodes have few connections, and a few nodes (the hubs) have many connections. This type of distribution is characteristic of **scale-free networks**, which differ significantly from random networks.\n",
        "\n",
        "4. **Why Facebook and Twitter Differ from Random Networks**:\n",
        "   - **Real-world user behavior**: Users in these networks are not connecting randomly but based on factors like popularity, mutual interests, or recommendations. This social behavior creates hubs and clusters, leading to a non-random, structured network.\n",
        "   - **External influences and dynamics**: The evolution of these networks is shaped by real-world events and changes, such as viral content, trending topics, or celebrity influence, which further leads to deviations from randomness.\n",
        "   - **Clusters and communities**: Unlike random networks, Facebook and Twitter are likely to have tightly knit groups of users who interact more frequently with each other, forming identifiable community structures that further affect the overall degree distribution.\n",
        "\n",
        "\"\"\")\n"
      ],
      "metadata": {
        "colab": {
          "base_uri": "https://localhost:8080/"
        },
        "id": "bZzJ_UywVqU9",
        "outputId": "fc5aa99e-5092-4eee-f20a-7c4ebfc618cf"
      },
      "execution_count": 12,
      "outputs": [
        {
          "output_type": "stream",
          "name": "stdout",
          "text": [
            "\n",
            "The observations you make about Facebook and Twitter networks highlight several key characteristics of real-world social networks when compared to random networks. Here’s a more detailed breakdown based on the analysis of degree distributions and the underlying structure:\n",
            "\n",
            "1. **Facebook and Twitter Networks:**\n",
            "   - **High variability in degrees**: Both networks show significant variation in node degrees (number of connections). This implies that, unlike in random networks where the degrees are typically distributed more uniformly, certain nodes in these social networks are more connected than others.\n",
            "   - **Presence of hubs**: The fact that certain nodes have notably higher degrees (e.g., 12, 28, 50) points toward the formation of \"hubs.\" These hubs are nodes that attract many connections, aligning with **preferential attachment** mechanisms—nodes with higher connections tend to gain more new links over time.\n",
            "   - **Community structures**: The variability in the degree distribution may suggest the presence of communities or clusters within the network. These groups can form naturally in social networks as people cluster around common interests or connections.\n",
            "\n",
            "2. **Random Networks**:\n",
            "   - **Uniform degree distribution**: In contrast, random networks tend to exhibit a Poisson-like degree distribution, where most nodes have a similar number of connections, and outliers (i.e., highly connected nodes) are rare. \n",
            "   - **Lack of hubs**: In a random network, the likelihood of any node becoming significantly more connected than others is very low. The degree distribution tends to be much more uniform without the large hubs seen in real-world networks.\n",
            "\n",
            "3. **Preferential Attachment and its Role**:\n",
            "   - **Growth through attraction**: In real-world networks like Facebook and Twitter, the preferential attachment mechanism drives the formation of hubs. This means that new users are more likely to connect to nodes (people or accounts) that are already well connected. This behavior is absent in random networks where connections are formed randomly rather than based on the popularity of a node.\n",
            "   - **Power-law distribution**: As a result of preferential attachment, real-world networks often follow a power-law degree distribution, where most nodes have few connections, and a few nodes (the hubs) have many connections. This type of distribution is characteristic of **scale-free networks**, which differ significantly from random networks.\n",
            "\n",
            "4. **Why Facebook and Twitter Differ from Random Networks**:\n",
            "   - **Real-world user behavior**: Users in these networks are not connecting randomly but based on factors like popularity, mutual interests, or recommendations. This social behavior creates hubs and clusters, leading to a non-random, structured network.\n",
            "   - **External influences and dynamics**: The evolution of these networks is shaped by real-world events and changes, such as viral content, trending topics, or celebrity influence, which further leads to deviations from randomness.\n",
            "   - **Clusters and communities**: Unlike random networks, Facebook and Twitter are likely to have tightly knit groups of users who interact more frequently with each other, forming identifiable community structures that further affect the overall degree distribution.\n",
            "\n",
            "\n"
          ]
        }
      ]
    },
    {
      "cell_type": "markdown",
      "source": [
        "QUESTION C"
      ],
      "metadata": {
        "id": "Txtt7p9WVvr_"
      }
    },
    {
      "cell_type": "code",
      "source": [
        "##1- AVERAGE PATH LENGTH\n",
        "\n",
        "\n",
        "# Calculate the shortest path length between all pairs of nodes for Facebook-Ego network\n",
        "shortest_path_lengths_facebook = dict(nx.shortest_path_length(facebook_network))\n",
        "\n",
        "# Calculate the average shortest path length for Facebook-Ego network\n",
        "avg_shortest_path_length_facebook = np.mean([length for source in shortest_path_lengths_facebook for length in shortest_path_lengths_facebook[source].values()])\n",
        "\n",
        "print(\"The average path length of the Facebook-Ego network is:\", avg_shortest_path_length_facebook)"
      ],
      "metadata": {
        "colab": {
          "base_uri": "https://localhost:8080/"
        },
        "id": "VblR84pTVt-V",
        "outputId": "7c0b3ac2-ac8d-4733-b5db-78069c233792"
      },
      "execution_count": 5,
      "outputs": [
        {
          "output_type": "stream",
          "name": "stdout",
          "text": [
            "The average path length of the Facebook-Ego network is: 2.410643424036281\n"
          ]
        }
      ]
    },
    {
      "cell_type": "code",
      "source": [
        "\n",
        "# Calculate the shortest path length between all pairs of nodes for Twitter-Ego network\n",
        "shortest_path_lengths_twitter = dict(nx.shortest_path_length(twitter_network))\n",
        "\n",
        "# Calculate the average shortest path length for Twitter-Ego network\n",
        "avg_shortest_path_length_twitter = np.mean([length for source in shortest_path_lengths_twitter for length in shortest_path_lengths_twitter[source].values()])\n",
        "\n",
        "print(\"The average path length of the Twitter-Ego network is:\", avg_shortest_path_length_twitter)\n"
      ],
      "metadata": {
        "colab": {
          "base_uri": "https://localhost:8080/"
        },
        "id": "oHuEWc2VVupU",
        "outputId": "a57902ad-fe1f-4bbf-db4b-e26adc14201f"
      },
      "execution_count": 6,
      "outputs": [
        {
          "output_type": "stream",
          "name": "stdout",
          "text": [
            "The average path length of the Twitter-Ego network is: 1.5219905271575322\n"
          ]
        }
      ]
    },
    {
      "cell_type": "markdown",
      "source": [
        "QUESTION D"
      ],
      "metadata": {
        "id": "870dteKoWv_L"
      }
    },
    {
      "cell_type": "code",
      "source": [
        "# Function to randomly select k nodes from a network\n",
        "def random_nodes(graph, k):\n",
        "    return random.sample(graph.nodes(), k)\n",
        "\n",
        "# Function to calculate clustering coefficient for a node in a graph\n",
        "def calculate_clustering_coefficient(graph, node):\n",
        "    return nx.clustering(graph, node)\n",
        "\n",
        "# Randomly choose 5 nodes for Facebook-Ego network\n",
        "random_nodes_facebook = random_nodes(facebook_network, 5)\n",
        "# Randomly choose 5 nodes for Twitter-Ego network\n",
        "random_nodes_twitter = random_nodes(twitter_network, 5)\n",
        "\n",
        "# Calculate clustering coefficients for each node in Facebook-Ego network\n",
        "clustering_coefficients_facebook = [calculate_clustering_coefficient(facebook_network, node) for node in random_nodes_facebook]\n",
        "# Calculate clustering coefficients for each node in Twitter-Ego network\n",
        "clustering_coefficients_twitter = [calculate_clustering_coefficient(twitter_network, node) for node in random_nodes_twitter]\n",
        "\n",
        "print(\"=============================================================================================================\")\n",
        "# Print the results for Facebook-Ego network\n",
        "print(\"Random Nodes (Facebook):\", random_nodes_facebook)\n",
        "print(\"Clustering Coefficients (Facebook):\", clustering_coefficients_facebook)\n",
        "\n",
        "print(\"=============================================================================================================\")\n",
        "# Print the results for Twitter-Ego network\n",
        "print(\"Random Nodes (Twitter):\", random_nodes_twitter)\n",
        "print(\"Clustering Coefficients (Twitter):\", clustering_coefficients_twitter)\n",
        "print(\"=============================================================================================================\")"
      ],
      "metadata": {
        "colab": {
          "base_uri": "https://localhost:8080/"
        },
        "id": "G0U2fmvfWxhH",
        "outputId": "69b104a5-2881-4821-ef21-632ca252d768"
      },
      "execution_count": 7,
      "outputs": [
        {
          "output_type": "stream",
          "name": "stdout",
          "text": [
            "=============================================================================================================\n",
            "Random Nodes (Facebook): [717, 711, 820, 769, 756]\n",
            "Clustering Coefficients (Facebook): [1.0, 0.6783625730994152, 0.4069069069069069, 0.5909090909090909, 0.6111111111111112]\n",
            "=============================================================================================================\n",
            "Random Nodes (Twitter): [15174477, 16956234, 54905488, 22411875, 17003204]\n",
            "Clustering Coefficients (Twitter): [0.5770105713903385, 0.8277282086479066, 0.8656674208144797, 0.619093109158069, 0.6286347954657466]\n",
            "=============================================================================================================\n"
          ]
        },
        {
          "output_type": "stream",
          "name": "stderr",
          "text": [
            "<ipython-input-7-37f8dd214946>:3: DeprecationWarning: Sampling from a set deprecated\n",
            "since Python 3.9 and will be removed in a subsequent version.\n",
            "  return random.sample(graph.nodes(), k)\n"
          ]
        }
      ]
    },
    {
      "cell_type": "markdown",
      "source": [
        "QUESTION E"
      ],
      "metadata": {
        "id": "I5q1LE4qW91Q"
      }
    },
    {
      "cell_type": "code",
      "source": [
        "## AVERAGE CLUSTERING COEFFICIENT OF NETWORKS\n",
        "\n",
        "# Average clustering coefficient of facebook network\n",
        "\n",
        "avg_clustering_coefficient_facebook = nx.average_clustering(facebook_network)\n",
        "\n",
        "print(\"The average clustering coefficient for the facebook-Ego network is:\", avg_clustering_coefficient_facebook)"
      ],
      "metadata": {
        "colab": {
          "base_uri": "https://localhost:8080/"
        },
        "id": "VUIHE-SNXAjQ",
        "outputId": "ae022094-1ed5-4e51-8292-e14b728d98c4"
      },
      "execution_count": 8,
      "outputs": [
        {
          "output_type": "stream",
          "name": "stdout",
          "text": [
            "The average clustering coefficient for the facebook-Ego network is: 0.5337913395248176\n"
          ]
        }
      ]
    },
    {
      "cell_type": "code",
      "source": [
        "# Average clustering coefficient of Twitter network\n",
        "\n",
        "avg_clustering_coefficient_twitter = nx.average_clustering(twitter_network)\n",
        "\n",
        "print(\"The average clustering coefficient for the Twitter-Ego network is:\", avg_clustering_coefficient_twitter)"
      ],
      "metadata": {
        "colab": {
          "base_uri": "https://localhost:8080/"
        },
        "id": "ukc8H8Q9XV3q",
        "outputId": "d6e2dfdf-4109-452a-92d4-272135cdb7b7"
      },
      "execution_count": 9,
      "outputs": [
        {
          "output_type": "stream",
          "name": "stdout",
          "text": [
            "The average clustering coefficient for the Twitter-Ego network is: 0.6736358402180272\n"
          ]
        }
      ]
    },
    {
      "cell_type": "markdown",
      "source": [
        "QUESTION F"
      ],
      "metadata": {
        "id": "ulgBseVIXulA"
      }
    },
    {
      "cell_type": "code",
      "source": [
        "##LIST OF THE NODES WITH THE LARGEST COMPONENT IN THE NETWORK.\n",
        "\n",
        "#For Facebook Network\n",
        "largest_component_facebook = max(nx.connected_components(facebook_network), key=len)\n",
        "nodes_in_largest_component_facebook = list(largest_component_facebook)\n",
        "\n",
        "print(\"Nodes in the largest component of the Facebook-Ego network:\")\n",
        "print(nodes_in_largest_component_facebook)"
      ],
      "metadata": {
        "colab": {
          "base_uri": "https://localhost:8080/"
        },
        "id": "3pUBwcBuXwUB",
        "outputId": "13d73a7c-7ae0-4629-a7e5-98c6698651b8"
      },
      "execution_count": 10,
      "outputs": [
        {
          "output_type": "stream",
          "name": "stdout",
          "text": [
            "Nodes in the largest component of the Facebook-Ego network:\n",
            "[687, 688, 689, 690, 691, 693, 694, 695, 696, 697, 698, 699, 700, 701, 702, 703, 704, 705, 706, 707, 708, 709, 710, 711, 712, 713, 714, 715, 716, 717, 718, 719, 720, 721, 722, 723, 724, 725, 726, 727, 728, 729, 730, 731, 732, 733, 734, 735, 736, 737, 738, 739, 740, 741, 742, 743, 744, 745, 746, 747, 748, 749, 750, 751, 752, 753, 754, 755, 756, 757, 758, 759, 760, 761, 762, 763, 764, 765, 766, 767, 768, 769, 770, 771, 772, 773, 774, 775, 776, 777, 778, 779, 780, 781, 782, 783, 784, 785, 786, 787, 788, 789, 790, 791, 792, 793, 794, 795, 796, 797, 798, 799, 800, 802, 803, 804, 805, 806, 807, 808, 809, 810, 811, 812, 813, 814, 815, 816, 817, 818, 819, 820, 821, 822, 823, 824, 825, 826, 827, 828, 829, 830, 831, 832, 833, 834, 835, 836, 837, 838, 839, 840, 841, 842, 843, 844, 845, 846, 847, 848, 849, 850, 851, 852, 853, 854, 855, 856]\n"
          ]
        }
      ]
    },
    {
      "cell_type": "code",
      "source": [
        "#For Twitter Network\n",
        "strongly_connected_components_twitter = list(nx.strongly_connected_components(twitter_network))\n",
        "\n",
        "# Find the largest strongly connected component\n",
        "largest_component_twitter = max(strongly_connected_components_twitter, key=len)\n",
        "nodes_in_largest_component_twitter = list(largest_component_twitter)\n",
        "\n",
        "print(\"Nodes in the largest strongly connected component of the Twitter-Ego network:\")\n",
        "print(nodes_in_largest_component_twitter)"
      ],
      "metadata": {
        "colab": {
          "base_uri": "https://localhost:8080/"
        },
        "id": "ZdJRJqx0ZVqU",
        "outputId": "6814144a-b338-47a8-ea3a-a4414930da5b"
      },
      "execution_count": 11,
      "outputs": [
        {
          "output_type": "stream",
          "name": "stdout",
          "text": [
            "Nodes in the largest strongly connected component of the Twitter-Ego network:\n",
            "[10874882, 16929282, 39434755, 45869573, 14575107, 1976841, 56810507, 1754641, 15222806, 73223196, 17494046, 14476328, 10454572, 16955436, 17003056, 17001524, 24773177, 16686144, 16929349, 17004618, 17006157, 17025613, 1769551, 17001043, 54981205, 14515799, 22411875, 16956008, 17004139, 1775731, 16929396, 78453, 19086456, 16955517, 69306507, 1434251, 16334480, 54905488, 16954517, 15829144, 21145241, 57046177, 17001646, 11178672, 17000625, 5758642, 25878195, 16956087, 807095, 27916985, 19731643, 16929470, 14940354, 17003204, 16809670, 17002185, 66452682, 17023178, 1880781, 14434011, 59145948, 2017511, 646893, 16929520, 21764343, 19787000, 17026297, 14603515, 14434063, 71180562, 14434070, 1879831, 16929559, 26929440, 19662630, 17025323, 1536811, 17023277, 1766701, 16439603, 29205301, 16317238, 1774391, 4282171, 1767741, 16929600, 15827269, 16190278, 1877831, 14191945, 16956234, 14237001, 15174477, 9641832, 70736745, 17194349, 17023344, 17845620, 50360181, 20095865, 815994, 315142011, 23836537, 1440641, 16954241, 103041418, 59157393, 1198481, 20778387, 9089942, 17002395, 20772763, 19113374, 17026981, 16956330, 70747051, 12685742, 626103, 16929216, 28631509, 10755542, 16955870, 10032112, 16953844, 17026041, 2020351]\n"
          ]
        }
      ]
    }
  ]
}