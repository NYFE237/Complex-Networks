{
 "cells": [
  {
   "cell_type": "markdown",
   "metadata": {},
   "source": [
    "## Assignment 8\n",
    "The goal of this lab is to examine and experiment with several techniques related to influence analysis\n",
    "in complex networks. Influence is defined between two users and represents how\n",
    "possible is for a user to adapt the behavior or copy the action of another user. \n",
    "\n",
    "We will first introduce the diffusion model which can be used to simulate a spreading process that takes place over the network.\n",
    " \n",
    "Subsequently, we will utilize the structure of the network to identify influencers based in a heuristic manner.\n",
    "\n",
    "Finally, we will examine the algorithmic solution to the problem of influence maximization,\n",
    "which is choosing the optimum nodes to maximize the spread of information, and compare it with\n",
    "the heuristic approach based on the simulations.\n",
    "\n",
    "We will again rely on the network sciecne dataset for our use case. The following questions can be answered with the help of networkx and NDlib. You may also use other packages to deal with the problem. Please answer the following questions on the networks you have and submit your executable code."
   ]
  },
  {
   "cell_type": "code",
   "execution_count": 1,
   "metadata": {},
   "outputs": [],
   "source": [
    "path = \"/Users/0232112159/Desktop/Complex Analysis\""
   ]
  },
  {
   "cell_type": "code",
   "execution_count": 2,
   "metadata": {},
   "outputs": [
    {
     "name": "stderr",
     "output_type": "stream",
     "text": [
      "/Users/0232112159/Library/Python/3.9/lib/python/site-packages/urllib3/__init__.py:35: NotOpenSSLWarning: urllib3 v2 only supports OpenSSL 1.1.1+, currently the 'ssl' module is compiled with 'LibreSSL 2.8.3'. See: https://github.com/urllib3/urllib3/issues/3020\n",
      "  warnings.warn(\n"
     ]
    }
   ],
   "source": [
    "# download a file from a url \n",
    "import requests\n",
    "\n",
    "def download(url,file_name):\n",
    "    get_response = requests.get(url)\n",
    "    with open(file_name, \"wb\") as out_file:\n",
    "        out_file.write(get_response.content)\n",
    "\n",
    "download(url = \"http://www.casos.cs.cmu.edu/computational_tools/datasets/external/netscience/netscience.gml\", file_name=path+\"netscience.gml\")"
   ]
  },
  {
   "cell_type": "code",
   "execution_count": 8,
   "metadata": {},
   "outputs": [
    {
     "name": "stdout",
     "output_type": "stream",
     "text": [
      "Graph Info:\n",
      "Number of nodes: 1589\n",
      "Number of edges: 2742\n",
      "Is directed: False\n"
     ]
    }
   ],
   "source": [
    "import networkx as nx\n",
    "\n",
    "# Read the data and show the basic information\n",
    "\n",
    "# Load the GML file\n",
    "gml_file_path = path + \"netscience.gml\"\n",
    "G = nx.read_gml(gml_file_path)\n",
    "\n",
    "print(\"Graph Info:\")\n",
    "print(f\"Number of nodes: {G.number_of_nodes()}\")\n",
    "print(f\"Number of edges: {G.number_of_edges()}\")\n",
    "print(f\"Is directed: {G.is_directed()}\")"
   ]
  },
  {
   "cell_type": "markdown",
   "metadata": {},
   "source": [
    "**(a)** We will first create a method to evaluate our chosen seeds, based on epidemic simulation. As a means for evaluation, we use the Independent Cascade model, to compute the number of influenced nodes during an influence spread over the network. \n",
    "This model assumes that a node v has only one chance to influence each of its neighbors u based on the probability `p v,u` . \n",
    "We define the model's parameters (threshold=0.01) based on common approaches in the literature, and run the epidemic through 10 steps in order to get an approximation and retreive fast results (in normal circumstances it is 10 thousand).\n",
    "\n",
    "\n",
    "In terms of implementation we will define a function $simulate\\_spreading$ that performs the simulation using the IndependentCascadeModel and ModelConfig from NDlib.\n",
    "More specficially, we have to loop through the edges and add a variable named \"threshold\" that resembles the probability of influencing a node's neighbors (set to $0.01$ as is common in the literature for dense graphs), using the function $add\\_edge\\_configuration$.\n"
   ]
  },
  {
   "cell_type": "code",
   "execution_count": 10,
   "metadata": {},
   "outputs": [],
   "source": [
    "import networkx as nx\n",
    "import random\n",
    "\n",
    "def simulate_spreading(G,seed_set,sim=10,num_steps=5,threshold = 0.01):\n",
    "    \"\"\"\n",
    "    Given the graph and the seed set, compute the number of infected nodes after the end of a spreading process\n",
    "     \n",
    "    Parameters:\n",
    "    G (networkx.Graph): The network graph\n",
    "    seed_set (set): Set of initial infected nodes\n",
    "    sim (int): Number of simulations to run\n",
    "    num_steps (int): Number of steps for each simulation\n",
    "    threshold (float): Probability threshold for infection\n",
    "    \n",
    "    Returns:\n",
    "    float: Average number of infected nodes across all simulations\n",
    "    \"\"\"\n",
    "    total_infected = 0\n",
    "    for _ in range(sim):\n",
    "        infected = set(seed_set)\n",
    "        new_infected = set(seed_set)\n",
    "        \n",
    "        for _ in range(num_steps):\n",
    "            current_new_infected = set()\n",
    "            \n",
    "            for node in new_infected:\n",
    "                \n",
    "                for neighbor in G.neighbors(node):\n",
    "                    if neighbor not in infected:\n",
    "                        if random.random() < threshold:\n",
    "                            current_new_infected.add(neighbor) \n",
    "                            \n",
    "       \n",
    "            infected.update(current_new_infected)\n",
    "            newly_infected = current_new_infected\n",
    "            \n",
    "            if not newly_infected:\n",
    "                break\n",
    "        \n",
    "        total_infected += len(infected)\n",
    "    \n",
    "    average_infected = total_infected / sim\n",
    "    return average_infected\n",
    "\n",
    "\n"
   ]
  },
  {
   "cell_type": "markdown",
   "metadata": {},
   "source": [
    "**(b)** Compute K-core score:  Given our undirected network G, C k is defined as the k-core subgraph of G if it is a maximal connected subgraph in which all nodes have degree at least k. Then, each node v ∈ V has a core number c(v) = k, if it belongs to a k-core but not to a (k + 1)-core. The cohesion of subgraphs increases as k increases. Let us denote as C the set of nodes with the maximum core number k\\_max. Compute the top 20 nodes in terms of the k-core they belong to and simulate their spreading."
   ]
  },
  {
   "cell_type": "code",
   "execution_count": 12,
   "metadata": {},
   "outputs": [
    {
     "name": "stdout",
     "output_type": "stream",
     "text": [
      " Maximum core number (k_max): 19\n",
      "Top 20 nodes by core number: ['GIOT, L', 'UETZ, P', 'CAGNEY, G', 'MANSFIELD, T', 'JUDSON, R', 'KNIGHT, J', 'LOCKSHON, D', 'NARAYAN, V', 'SRINIVASAN, M', 'POCHART, P', 'QURESHIEMILI, A', 'LI, Y', 'GODWIN, B', 'CONOVER, D', 'KALBFLEISCH, T', 'VIJAYADAMODAR, G', 'YANG, M', 'JOHNSTON, M', 'FIELDS, S', 'ROTHBERG, J']\n",
      "Number of influenced nodes : 20.0\n"
     ]
    }
   ],
   "source": [
    "from collections import Counter\n",
    "\n",
    "def compute_kcore_and_simulate_spreading(G, top_nodes = 20):\n",
    "    #core numbers for all nodes \n",
    "    core_numbers = nx.core_number(G)\n",
    "    \n",
    "    #Find maximum core number \n",
    "    k_max = max(core_numbers.values())\n",
    "    \n",
    "    #sort nodes  in descending order by core number\n",
    "    sorted_nodes = sorted(core_numbers.items(), key = lambda x:x[1], reverse = True)\n",
    "    \n",
    "    #Get the top 20 nodes \n",
    "    top_20_nodes = [node for node, _ in sorted_nodes [:top_nodes]]\n",
    "    \n",
    "    print (f\" Maximum core number (k_max): {k_max}\")\n",
    "    print(f\"Top 20 nodes by core number: {top_20_nodes}\")\n",
    "    \n",
    "    #Simulate spreading using the top 20 nodes as seeds\n",
    "    seed_set = set(top_20_nodes)\n",
    "    influenced_nodes = simulate_spreading(G, seed_set)\n",
    "    \n",
    "    print(f\"Number of influenced nodes : {influenced_nodes}\")\n",
    "    \n",
    "    return top_20_nodes, influenced_nodes\n",
    "\n",
    "top_20_nodes, influenced_nodes = compute_kcore_and_simulate_spreading(G)"
   ]
  },
  {
   "cell_type": "markdown",
   "metadata": {},
   "source": [
    "**(c)** Implement Greedy IM: Influence Maximization is the problem that lies in the heart of influence analysis and addresses how to find a set of nodes, such that if they start a diffusion, the number of infected nodes in the network (influenced spread) will be maximized. It has a broad range of applications, from viral marketing, which was the initial motivation for the problem, to epidemiological containment and political campaign management.\n",
    "The problem can be formulated as follows: given a social network, a diffusion model with some parameters and a number k, find a seed set S $\\subset$ V of size k such that the influence spread is maximized.  We will use the well known method from Kempe et al.[ [1](https://dl.acm.org/doi/pdf/10.1145/956750.956769?casa_token=tkl-2BIJoXIAAAAA:SD8O7LcvEPGyGAdv8cHEwSqgn3Jz0UeHvpRK3-xYB2Z9C7gy-iOQpeHoFqOWzDMfAskBgVzYrpzS)] that is based on the fact that the function of the influence spread under the IC and LT models is monotone non-decreasing and submodular, which gives a  $(1-1/e)$ approximation ratio to the optimal.\n",
    "\n",
    "To simplify and speed up the implementation to less then a minute, we are going to use only one simple simulation based on the function defined above. Moreover, we will reduce the search space of the algorithm by giving as an input a set of selected nodes to search on. To find a shorter set of such nodes, you can use the filter\\_graph function below, that removes nodes under a certain degree, and set an appropriate threshold e.g. 3. We utilize these shortcuts because we need to make the algorithm run in time for the lab. You are encouraged to experiment further in your own time with an implementation that matches more the original algorithm, mainly in order to get a firm understanding of the computational demand of influence maximization."
   ]
  },
  {
   "cell_type": "code",
   "execution_count": 13,
   "metadata": {},
   "outputs": [],
   "source": [
    "def filter_graph(G,threshold):\n",
    "    G_ = G.copy()\n",
    "    to_remove = [i for i in G_.nodes() if G_.degree(i) < threshold]\n",
    "    G_.remove_nodes_from(to_remove)\n",
    "    print(\"Removed \"+str(len(to_remove))+\" of \"+str(len(G.nodes()))+\" nodes\")\n",
    "   \n",
    "    return G_"
   ]
  },
  {
   "cell_type": "code",
   "execution_count": 17,
   "metadata": {},
   "outputs": [],
   "source": [
    "import networkx as nx\n",
    "from collections import defaultdict\n",
    "import random\n",
    "\n",
    "def greedy_algorithm(G, k, mc_simulations=1000, steps=10):\n",
    "    \"\"\"\n",
    "    Greedy Influence Maximization algorithm\n",
    "    \n",
    "    Parameters:\n",
    "    G (networkx.Graph): The network graph\n",
    "    k (int): Number of seed nodes to select\n",
    "    mc_simulations (int): Number of Monte Carlo simulations for each marginal gain calculation\n",
    "    steps (int): Number of steps in each simulation\n",
    "    \n",
    "    Returns:\n",
    "    list: Selected seed nodes\n",
    "    \"\"\"\n",
    "    seed_set = []\n",
    "    remaining_nodes = set(G.nodes())\n",
    "    \n",
    "    for _ in range(k):\n",
    "        max_marginal_gain = -1\n",
    "        best_node = None\n",
    "        \n",
    "        for node in remaining_nodes:\n",
    "            marginal_gain = calculate_marginal_gain(G, seed_set + [node], seed_set, mc_simulations, steps)\n",
    "            \n",
    "            if marginal_gain > max_marginal_gain:\n",
    "                max_marginal_gain = marginal_gain\n",
    "                best_node = node\n",
    "        \n",
    "        if best_node is not None:\n",
    "            seed_set.append(best_node)\n",
    "            remaining_nodes.remove(best_node)\n",
    "            print(f\"Selected node: {best_node}, Marginal gain: {max_marginal_gain}\")\n",
    "    \n",
    "    return seed_set\n",
    "\n",
    "def calculate_marginal_gain(G, new_seed_set, old_seed_set, mc_simulations, steps):\n",
    "    \"\"\"\n",
    "    Calculate the marginal gain of adding a new node to the seed set\n",
    "    \"\"\"\n",
    "    new_influence = simulate_spreading(G, set(new_seed_set), sim=mc_simulations, num_steps=steps)\n",
    "    old_influence = simulate_spreading(G, set(old_seed_set), sim=mc_simulations, num_steps=steps)\n",
    "    return new_influence - old_influence\n",
    "\n",
    "def simulate_spreading(G, seed_set, sim=1000, num_steps=10, threshold=0.01):\n",
    "    \"\"\"\n",
    "    Simulate the spreading process (same as before)\n",
    "    \"\"\"\n",
    "    total_infected = 0\n",
    "    \n",
    "    for _ in range(sim):\n",
    "        infected = set(seed_set)\n",
    "        newly_infected = set(seed_set)\n",
    "        \n",
    "        for _ in range(num_steps):\n",
    "            current_newly_infected = set()\n",
    "            \n",
    "            for node in newly_infected:\n",
    "                for neighbor in G.neighbors(node):\n",
    "                    if neighbor not in infected:\n",
    "                        if random.random() < threshold:\n",
    "                            current_newly_infected.add(neighbor)\n",
    "            \n",
    "            infected.update(current_newly_infected)\n",
    "            newly_infected = current_newly_infected\n",
    "            \n",
    "            if not newly_infected:\n",
    "                break\n",
    "        \n",
    "        total_infected += len(infected)\n",
    "    \n",
    "    average_infected = total_infected / sim\n",
    "    return average_infected\n",
    "\n",
    "\n"
   ]
  },
  {
   "cell_type": "code",
   "execution_count": 18,
   "metadata": {},
   "outputs": [
    {
     "name": "stdout",
     "output_type": "stream",
     "text": [
      "Selected node: BARABASI, A, Marginal gain: 1.373\n",
      "Selected node: UETZ, P, Marginal gain: 1.3319999999999999\n",
      "Selected node: NEWMAN, M, Marginal gain: 1.307\n",
      "Selected node: JEONG, H, Marginal gain: 1.3119999999999998\n",
      "Selected node: CAGNEY, G, Marginal gain: 1.3310000000000004\n",
      "Selected node: MARITAN, A, Marginal gain: 1.2860000000000005\n",
      "Selected node: QURESHIEMILI, A, Marginal gain: 1.306000000000001\n",
      "Selected node: NARAYAN, V, Marginal gain: 1.3010000000000002\n",
      "Selected node: ZIMMERMANROGER, H, Marginal gain: 1.2620000000000005\n",
      "Selected node: ALON, U, Marginal gain: 1.4109999999999996\n",
      "Selected seed nodes: ['BARABASI, A', 'UETZ, P', 'NEWMAN, M', 'JEONG, H', 'CAGNEY, G', 'MARITAN, A', 'QURESHIEMILI, A', 'NARAYAN, V', 'ZIMMERMANROGER, H', 'ALON, U']\n",
      "Influence spread of the selected seed set: 12.031\n"
     ]
    }
   ],
   "source": [
    "k = 10  # Number of seed nodes to select\n",
    "seed_nodes = greedy_algorithm(G, k)\n",
    "print(f\"Selected seed nodes: {seed_nodes}\")\n",
    "\n",
    "# Evaluate the final seed set\n",
    "final_influence = simulate_spreading(G, set(seed_nodes))\n",
    "print(f\"Influence spread of the selected seed set: {final_influence}\")"
   ]
  },
  {
   "cell_type": "markdown",
   "metadata": {},
   "source": [
    "**(d)** Plot the spreading of k-core and greedy IM for a seed set of 20 to compare them."
   ]
  },
  {
   "cell_type": "code",
   "execution_count": 21,
   "metadata": {},
   "outputs": [
    {
     "name": "stdout",
     "output_type": "stream",
     "text": [
      " Maximum core number (k_max): 19\n",
      "Top 20 nodes by core number: ['GIOT, L', 'UETZ, P', 'CAGNEY, G', 'MANSFIELD, T', 'JUDSON, R', 'KNIGHT, J', 'LOCKSHON, D', 'NARAYAN, V', 'SRINIVASAN, M', 'POCHART, P', 'QURESHIEMILI, A', 'LI, Y', 'GODWIN, B', 'CONOVER, D', 'KALBFLEISCH, T', 'VIJAYADAMODAR, G', 'YANG, M', 'JOHNSTON, M', 'FIELDS, S', 'ROTHBERG, J']\n",
      "Number of influenced nodes : 20.033\n",
      "Selected node: BARABASI, A, Marginal gain: 1.375\n",
      "Selected node: GODWIN, B, Marginal gain: 1.2979999999999998\n",
      "Selected node: JEONG, H, Marginal gain: 1.315\n",
      "Selected node: KALBFLEISCH, T, Marginal gain: 1.2890000000000001\n",
      "Selected node: NEWMAN, M, Marginal gain: 1.3339999999999996\n",
      "Selected node: MUTH, S, Marginal gain: 1.2530000000000001\n",
      "Selected node: FIELDS, S, Marginal gain: 1.2769999999999992\n",
      "Selected node: ALON, U, Marginal gain: 1.3079999999999998\n",
      "Selected node: SCHNITZLER, A, Marginal gain: 1.2860000000000014\n",
      "Selected node: KNIGHT, J, Marginal gain: 1.2599999999999998\n",
      "Selected node: BOGUNA, M, Marginal gain: 1.2880000000000003\n",
      "Selected node: OLTVAI, Z, Marginal gain: 1.2919999999999998\n",
      "Selected node: KURTHS, J, Marginal gain: 1.302999999999999\n",
      "Selected node: GRENFELL, B, Marginal gain: 1.261000000000001\n",
      "Selected node: SRINIVASAN, M, Marginal gain: 1.3420000000000023\n",
      "Selected node: CALDARELLI, G, Marginal gain: 1.389000000000003\n",
      "Selected node: FINK, K, Marginal gain: 1.283999999999999\n",
      "Selected node: BOCCALETTI, S, Marginal gain: 1.293999999999997\n",
      "Selected node: SOLE, R, Marginal gain: 1.3919999999999995\n",
      "Selected node: YOUNG, M, Marginal gain: 1.3689999999999998\n"
     ]
    }
   ],
   "source": [
    "import matplotlib.pyplot as plt\n",
    "import networkx as nx \n",
    "\n",
    "\n",
    "def simulate_spreading_over_time(G, seed_set, num_steps=10, threshold=0.01):\n",
    "    infected = set(seed_set)\n",
    "    spread_over_time = [len(infected)]\n",
    "    \n",
    "    for _ in range(num_steps):\n",
    "        newly_infected = set()\n",
    "        for node in infected:\n",
    "            for neighbor in G.neighbors(node):\n",
    "                if neighbor not in infected and random.random() < threshold:\n",
    "                    newly_infected.add(neighbor)\n",
    "        infected.update(newly_infected)\n",
    "        spread_over_time.append(len(infected))\n",
    "        \n",
    "    return spread_over_time\n",
    "\n",
    "\n",
    "Kcore_seeds = compute_kcore_and_simulate_spreading(G, top_nodes =20)[0]\n",
    "greedy_algo_seeds = greedy_algorithm(G, k = 20)\n",
    "\n",
    "#simulation of spreading for both methods:\n",
    "kcore_spread = simulate_spreading_over_time(G, Kcore_seeds)\n",
    "greedy_algo_spread = simulate_spreading_over_time(G, greedy_algo_seeds)\n",
    "\n",
    "\n"
   ]
  },
  {
   "cell_type": "code",
   "execution_count": 22,
   "metadata": {},
   "outputs": [
    {
     "data": {
      "image/png": "[encoded data removed]",
      "text/plain": [
       "<Figure size 1000x600 with 1 Axes>"
      ]
     },
     "metadata": {},
     "output_type": "display_data"
    }
   ],
   "source": [
    "#plotting:\n",
    "plt.figure(figsize = (10, 6))\n",
    "plt.plot(kcore_spread, label = 'K-core', marker = 'o')\n",
    "plt.plot(greedy_algo_spread, label = 'Greedy IM', marker ='s')\n",
    "plt.xlabel('Time steps ')\n",
    "plt.ylabel('Number of Infected Nodes')\n",
    "plt.title('Spreading Comparison between K-core and Greedy IM')\n",
    "plt.legend()\n",
    "plt.grid(True)\n",
    "plt.show()"
   ]
  },
  {
   "cell_type": "code",
   "execution_count": null,
   "metadata": {},
   "outputs": [],
   "source": []
  }
 ],
 "metadata": {
  "kernelspec": {
   "display_name": "ml",
   "language": "python",
   "name": "python3"
  },
  "language_info": {
   "codemirror_mode": {
    "name": "ipython",
    "version": 3
   },
   "file_extension": ".py",
   "mimetype": "text/x-python",
   "name": "python",
   "nbconvert_exporter": "python",
   "pygments_lexer": "ipython3",
   "version": "3.9.6"
  }
 },
 "nbformat": 4,
 "nbformat_minor": 2
}
