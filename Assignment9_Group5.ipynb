{
  "cells": [
    {
      "cell_type": "code",
      "execution_count": 1,
      "metadata": {
        "colab": {
          "base_uri": "https://localhost:8080/"
        },
        "id": "7MNgYiZxf7s2",
        "outputId": "dd29f45f-dc53-4d1f-e875-8a574604dd39"
      },
      "outputs": [
        {
          "name": "stdout",
          "output_type": "stream",
          "text": [
            "\n",
            "FullName : Frank Evin Yami Ngassam\n",
            "Student’s Number: 0232112159\n",
            "\n",
            "Modelling and Analysis of Complex Networks\n",
            "Assignment 9\n",
            "Number of the dataset : 5\n",
            "\n"
          ]
        }
      ],
      "source": [
        "print(\"\"\"\n",
        "FullName : Frank Evin Yami Ngassam\n",
        "Student’s Number: 0232112159\n",
        "\n",
        "Modelling and Analysis of Complex Networks\n",
        "Assignment 9\n",
        "Number of the dataset : 5\n",
        "\"\"\")"
      ]
    },
    {
      "cell_type": "markdown",
      "metadata": {
        "id": "s1LHcOUsGuTn"
      },
      "source": [
        "PACKAGES AND DATA LOADING"
      ]
    },
    {
      "cell_type": "code",
      "execution_count": 2,
      "metadata": {
        "id": "DhVGDs8jGIk4"
      },
      "outputs": [],
      "source": [
        "import networkx as nx\n",
        "import urllib.request\n",
        "import numpy as np\n",
        "import matplotlib.pyplot as plt\n",
        "import random\n",
        "from itertools import combinations\n",
        "import pandas as pd\n",
        "from sklearn.model_selection import train_test_split\n",
        "from sklearn.linear_model import LogisticRegression\n",
        "from sklearn.metrics import accuracy_score, roc_auc_score, precision_score, roc_curve\n",
        "import matplotlib.pyplot as plt"
      ]
    },
    {
      "cell_type": "code",
      "execution_count": 3,
      "metadata": {
        "id": "Dv5LpkO-Gz2r"
      },
      "outputs": [],
      "source": [
        "# Correct URLs pointing to the raw files on GitHub\n",
        "facebook_url = \"https://raw.githubusercontent.com/1250326/exercise_complex_network/master/Datasets/Group5/Facebook-Ego/686.edges\"\n",
        "\n",
        "# Download the Facebook-Ego network file\n",
        "urllib.request.urlretrieve(facebook_url, \"facebook.edges\")\n",
        "\n",
        "# Load the Facebook-Ego network as an undirected graph\n",
        "facebook_network = nx.read_edgelist(\"facebook.edges\", nodetype=int)\n",
        "\n"
      ]
    },
    {
      "cell_type": "markdown",
      "metadata": {
        "id": "-_n9tBj48nVE"
      },
      "source": [
        "### STEP 1: LOAD THE FACEBOOK DATA SET AND CHECK THE NUMBER OF NODES AND EDGES"
      ]
    },
    {
      "cell_type": "code",
      "execution_count": 4,
      "metadata": {
        "colab": {
          "base_uri": "https://localhost:8080/"
        },
        "id": "e4BA8-qfG-qQ",
        "outputId": "0127e679-b3e0-44c5-ea39-5b2d6977b191"
      },
      "outputs": [
        {
          "data": {
            "text/plain": [
              "(168, 1656)"
            ]
          },
          "execution_count": 4,
          "metadata": {},
          "output_type": "execute_result"
        }
      ],
      "source": [
        "\n",
        "# Basic graph information\n",
        "num_nodes = facebook_network.number_of_nodes()\n",
        "num_edges = facebook_network.number_of_edges()\n",
        "\n",
        "num_nodes, num_edges\n",
        "\n"
      ]
    },
    {
      "cell_type": "markdown",
      "metadata": {
        "id": "oolGKy_I8szJ"
      },
      "source": [
        "### STEP 2: DATA PREPROCESSING"
      ]
    },
    {
      "cell_type": "code",
      "execution_count": 5,
      "metadata": {
        "colab": {
          "base_uri": "https://localhost:8080/"
        },
        "id": "9qX25LjC8mij",
        "outputId": "d03c2fbf-b20d-4b79-929c-1b358fbed8f5"
      },
      "outputs": [
        {
          "data": {
            "text/plain": [
              "(165, 1491)"
            ]
          },
          "execution_count": 5,
          "metadata": {},
          "output_type": "execute_result"
        }
      ],
      "source": [
        "# Set random seed for reproducibility\n",
        "random.seed(42)\n",
        "\n",
        "# Calculate the number of edges to remove (10% of total edges)\n",
        "num_test_edges = int(0.1 * num_edges)\n",
        "\n",
        "# Randomly sample edges for the test set\n",
        "test_edges = random.sample(list(facebook_network.edges), num_test_edges)\n",
        "\n",
        "# Create a copy of the graph and remove the test edges\n",
        "G_train = facebook_network.copy()\n",
        "G_train.remove_edges_from(test_edges)\n",
        "\n",
        "# Check the number of edges in the training graph\n",
        "num_edges_train = G_train.number_of_edges()\n",
        "\n",
        "num_test_edges, num_edges_train\n"
      ]
    },
    {
      "cell_type": "code",
      "execution_count": 6,
      "metadata": {
        "colab": {
          "base_uri": "https://localhost:8080/",
          "height": 250
        },
        "id": "lpEW7iKMiXlk",
        "outputId": "12e271aa-d702-427e-c3fd-3bf041e62612"
      },
      "outputs": [
        {
          "name": "stderr",
          "output_type": "stream",
          "text": [
            "/var/folders/f2/9svl2vhs7zv85_7q56myyq5jr977fc/T/ipykernel_14867/3657722315.py:7: DeprecationWarning: Sampling from a set deprecated\n",
            "since Python 3.9 and will be removed in a subsequent version.\n",
            "  negative_samples = random.sample(non_edges, num_test_edges)\n"
          ]
        },
        {
          "data": {
            "text/html": [
              "<div>\n",
              "<style scoped>\n",
              "    .dataframe tbody tr th:only-of-type {\n",
              "        vertical-align: middle;\n",
              "    }\n",
              "\n",
              "    .dataframe tbody tr th {\n",
              "        vertical-align: top;\n",
              "    }\n",
              "\n",
              "    .dataframe thead th {\n",
              "        text-align: right;\n",
              "    }\n",
              "</style>\n",
              "<table border=\"1\" class=\"dataframe\">\n",
              "  <thead>\n",
              "    <tr style=\"text-align: right;\">\n",
              "      <th></th>\n",
              "      <th>node1</th>\n",
              "      <th>node2</th>\n",
              "      <th>jaccard</th>\n",
              "      <th>common_neighbors</th>\n",
              "      <th>label</th>\n",
              "    </tr>\n",
              "  </thead>\n",
              "  <tbody>\n",
              "    <tr>\n",
              "      <th>0</th>\n",
              "      <td>856</td>\n",
              "      <td>765</td>\n",
              "      <td>0.200000</td>\n",
              "      <td>5</td>\n",
              "      <td>1</td>\n",
              "    </tr>\n",
              "    <tr>\n",
              "      <th>1</th>\n",
              "      <td>752</td>\n",
              "      <td>745</td>\n",
              "      <td>0.473684</td>\n",
              "      <td>27</td>\n",
              "      <td>1</td>\n",
              "    </tr>\n",
              "    <tr>\n",
              "      <th>2</th>\n",
              "      <td>819</td>\n",
              "      <td>835</td>\n",
              "      <td>0.210526</td>\n",
              "      <td>8</td>\n",
              "      <td>1</td>\n",
              "    </tr>\n",
              "    <tr>\n",
              "      <th>3</th>\n",
              "      <td>794</td>\n",
              "      <td>700</td>\n",
              "      <td>0.300000</td>\n",
              "      <td>3</td>\n",
              "      <td>1</td>\n",
              "    </tr>\n",
              "    <tr>\n",
              "      <th>4</th>\n",
              "      <td>764</td>\n",
              "      <td>843</td>\n",
              "      <td>0.206897</td>\n",
              "      <td>6</td>\n",
              "      <td>1</td>\n",
              "    </tr>\n",
              "  </tbody>\n",
              "</table>\n",
              "</div>"
            ],
            "text/plain": [
              "   node1  node2   jaccard  common_neighbors  label\n",
              "0    856    765  0.200000                 5      1\n",
              "1    752    745  0.473684                27      1\n",
              "2    819    835  0.210526                 8      1\n",
              "3    794    700  0.300000                 3      1\n",
              "4    764    843  0.206897                 6      1"
            ]
          },
          "execution_count": 6,
          "metadata": {},
          "output_type": "execute_result"
        }
      ],
      "source": [
        "# Generate all possible node pairs (non-edges) for negative sampling\n",
        "all_possible_pairs = set(combinations(facebook_network.nodes, 2))\n",
        "existing_edges = set(facebook_network.edges)\n",
        "non_edges = all_possible_pairs - existing_edges\n",
        "\n",
        "# Sample an equal number of negative samples as the test edges\n",
        "negative_samples = random.sample(non_edges, num_test_edges)\n",
        "\n",
        "# Combine test edges (positive samples) and negative samples for the test set\n",
        "test_set = pd.DataFrame(test_edges + negative_samples, columns=[\"node1\", \"node2\"])\n",
        "test_set[\"label\"] = [1] * len(test_edges) + [0] * len(negative_samples)\n",
        "\n",
        "# Feature extraction: Jaccard coefficient and common neighbors\n",
        "def extract_features(graph, edge_list):\n",
        "    features = []\n",
        "    for u, v in edge_list:\n",
        "        # Jaccard coefficient\n",
        "        jc = next(nx.jaccard_coefficient(graph, [(u, v)]), (u, v, 0))[2]\n",
        "        # Number of common neighbors\n",
        "        cn = len(list(nx.common_neighbors(graph, u, v)))\n",
        "        features.append((u, v, jc, cn))\n",
        "    return pd.DataFrame(features, columns=[\"node1\", \"node2\", \"jaccard\", \"common_neighbors\"])\n",
        "\n",
        "# Extract features for the test set\n",
        "test_features = extract_features(G_train, test_set[[\"node1\", \"node2\"]].values)\n",
        "test_features[\"label\"] = test_set[\"label\"]\n",
        "\n",
        "# Show sample of extracted features\n",
        "test_features.head()\n",
        "\n"
      ]
    },
    {
      "cell_type": "markdown",
      "metadata": {},
      "source": [
        "### STEP 3: MODEL TRAINING AND PREDICTION"
      ]
    },
    {
      "cell_type": "code",
      "execution_count": null,
      "metadata": {},
      "outputs": [],
      "source": [
        "# Separate features and labels\n",
        "X = test_features[[\"jaccard\", \"common_neighbors\"]]\n",
        "y = test_features[\"label\"]\n",
        "\n",
        "# Split the data into training and test sets\n",
        "X_train, X_test, y_train, y_test = train_test_split(X, y, test_size=0.3, random_state=42)\n",
        "\n",
        "# Train a Logistic Regression model\n",
        "model = LogisticRegression()\n",
        "model.fit(X_train, y_train)\n",
        "\n",
        "# Make predictions\n",
        "y_pred = model.predict(X_test)\n",
        "y_pred_proba = model.predict_proba(X_test)[:, 1]\n"
      ]
    },
    {
      "cell_type": "markdown",
      "metadata": {
        "id": "0pGqCt3G88Lq"
      },
      "source": [
        "### STEP 4: EVALUATION  OF METRICS"
      ]
    },
    {
      "cell_type": "code",
      "execution_count": 7,
      "metadata": {
        "colab": {
          "base_uri": "https://localhost:8080/"
        },
        "id": "unfKBQCCiXSA",
        "outputId": "ba0fbacd-bf4e-412b-f13f-74adcbcff837"
      },
      "outputs": [
        {
          "name": "stdout",
          "output_type": "stream",
          "text": [
            "Accuracy: 0.7374\n",
            "AUROC: 0.8777\n",
            "Precision: 0.8372\n"
          ]
        }
      ],
      "source": [
        "\n",
        "# Calculate evaluation metrics\n",
        "accuracy = accuracy_score(y_test, y_pred)\n",
        "auroc = roc_auc_score(y_test, y_pred_proba)\n",
        "precision = precision_score(y_test, y_pred)\n",
        "\n",
        "# Print metrics\n",
        "print(f\"Accuracy: {accuracy:.4f}\")\n",
        "print(f\"AUROC: {auroc:.4f}\")\n",
        "print(f\"Precision: {precision:.4f}\")\n",
        "\n",
        "\n"
      ]
    },
    {
      "cell_type": "markdown",
      "metadata": {
        "id": "tBMD4DeX9jS-"
      },
      "source": [
        "### STEP 5: ROC CURVE GRAPH"
      ]
    },
    {
      "cell_type": "code",
      "execution_count": 19,
      "metadata": {
        "colab": {
          "base_uri": "https://localhost:8080/",
          "height": 616
        },
        "id": "fnstK80v7vrW",
        "outputId": "13a528db-dfff-4714-99c8-8eb1895839c7"
      },
      "outputs": [
        {
          "data": {
            "image/png": "[encoded data removed]",
            "text/plain": [
              "<Figure size 800x600 with 1 Axes>"
            ]
          },
          "metadata": {},
          "output_type": "display_data"
        }
      ],
      "source": [
        "# Plot ROC curve\n",
        "fpr, tpr, _ = roc_curve(y_test, y_pred_proba)\n",
        "plt.figure(figsize=(8, 6))\n",
        "plt.plot(fpr, tpr, color ='red', label=f\"AUC = {auroc:.4f}\")\n",
        "plt.plot([0, 1], [0, 1], '--', label=\"Random Guess\",color = 'blue')\n",
        "plt.xlim([0.0, 1.0])\n",
        "plt.ylim([0.0, 1.05])\n",
        "plt.xlabel(\"False Positive Rate\")\n",
        "plt.ylabel(\"True Positive Rate\")\n",
        "plt.title(\"ROC Curve\")\n",
        "plt.legend()\n",
        "plt.show()"
      ]
    }
  ],
  "metadata": {
    "colab": {
      "provenance": []
    },
    "kernelspec": {
      "display_name": "Python 3",
      "name": "python3"
    },
    "language_info": {
      "codemirror_mode": {
        "name": "ipython",
        "version": 3
      },
      "file_extension": ".py",
      "mimetype": "text/x-python",
      "name": "python",
      "nbconvert_exporter": "python",
      "pygments_lexer": "ipython3",
      "version": "3.9.6"
    }
  },
  "nbformat": 4,
  "nbformat_minor": 0
}
